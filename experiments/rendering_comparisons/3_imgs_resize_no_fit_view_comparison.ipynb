{
 "cells": [
  {
   "cell_type": "markdown",
   "metadata": {},
   "source": [
    "# Comparing different renderings to see if node/edge sizes change\n",
    "This comparison assumes that the base imgs (before the processign that happens here) have already been generated.\n",
    "I generated the imgs using the main python project.\n",
    "I passed the tile size to the renderer to generate outputs of 512x512 and 1024x1024.\n",
    "I kept the same layout for both rendering sizes.\n",
    "\n",
    "You should have a img/1024 and img/512 folder, they should contain the output of the tile-generating code for two zoom levels (i.e. 5 imgs in each folder).\n",
    "\n",
    "#### Output size\n",
    "Notice that when specifying the output size in the graph_draw function you are specifying half of the final image size.\n",
    "i.e. output_size=[256, 256] produces an img of size 512x512.\n",
    "#### Adjust aspect\n",
    "Also, to ensure that the final image will have the size you want we need to pass adjust_aspect=False to graph_draw."
   ]
  },
  {
   "cell_type": "code",
   "execution_count": 27,
   "metadata": {},
   "outputs": [],
   "source": [
    "# takes a square img and scales it to a square with the specified side length\n",
    "def scale_img(path, side, name):\n",
    "    if isinstance(path, type(\"string\")):\n",
    "        img = Image.open(path)\n",
    "    else:\n",
    "        img = path\n",
    "    wpercent = (side / float(img.size[0]))\n",
    "    hsize = int((float(img.size[1]) * float(wpercent)))\n",
    "    img = img.resize((side, hsize), Image.ANTIALIAS)\n",
    "    img.save('resized_' + name)\n",
    "    img.close()"
   ]
  },
  {
   "cell_type": "code",
   "execution_count": 28,
   "metadata": {},
   "outputs": [],
   "source": [
    "name = \"./img/1024/z_0x_0y_0.png\".split('/')[-1]\n",
    "scale_img(\"./img/1024/z_0x_0y_0.png\", 512, name)"
   ]
  },
  {
   "cell_type": "code",
   "execution_count": 30,
   "metadata": {},
   "outputs": [],
   "source": [
    "# methods to concatenate by height and by width\n",
    "def get_concat_h(im1, im2):\n",
    "    dst = Image.new('RGB', (im1.width + im2.width, im1.height))\n",
    "    dst.paste(im1, (0, 0))\n",
    "    dst.paste(im2, (im1.width, 0))\n",
    "    return dst\n",
    "\n",
    "def get_concat_v(im1, im2):\n",
    "    dst = Image.new('RGB', (im1.width, im1.height + im2.height))\n",
    "    dst.paste(im1, (0, 0))\n",
    "    dst.paste(im2, (0, im1.height))\n",
    "    return dst"
   ]
  },
  {
   "cell_type": "code",
   "execution_count": 31,
   "metadata": {},
   "outputs": [],
   "source": [
    "# concatenate the zooms for 1024 and scaling the result to 512 size\n",
    "tl = Image.open(\"./img/1024/z_1x_0y_0.png\")\n",
    "bl = Image.open(\"./img/1024/z_1x_0y_1.png\")\n",
    "\n",
    "tr = Image.open(\"./img/1024/z_1x_1y_0.png\")\n",
    "br = Image.open(\"./img/1024/z_1x_1y_1.png\")\n",
    "\n",
    "a = get_concat_v(tl, bl)\n",
    "b = get_concat_v(tr, br)\n",
    "\n",
    "final = get_concat_h(a, b)\n",
    "\n",
    "scale_img(final, 512, '1024_concatenation_scaled.png')"
   ]
  },
  {
   "cell_type": "code",
   "execution_count": 34,
   "metadata": {},
   "outputs": [],
   "source": [
    "# concatenate the zooms for 512 and scaling the result to 512 size\n",
    "tl = Image.open(\"./img/512/z_1x_0y_0.png\")\n",
    "bl = Image.open(\"./img/512/z_1x_0y_1.png\")\n",
    "\n",
    "tr = Image.open(\"./img/512/z_1x_1y_0.png\")\n",
    "br = Image.open(\"./img/512/z_1x_1y_1.png\")\n",
    "\n",
    "a = get_concat_v(tl, bl)\n",
    "b = get_concat_v(tr, br)\n",
    "\n",
    "final = get_concat_h(a, b)\n",
    "\n",
    "scale_img(final, 512, '512_concatenation_scaled.png')"
   ]
  },
  {
   "cell_type": "code",
   "execution_count": null,
   "metadata": {},
   "outputs": [],
   "source": []
  }
 ],
 "metadata": {
  "kernelspec": {
   "display_name": "Python 3",
   "language": "python",
   "name": "python3"
  },
  "language_info": {
   "codemirror_mode": {
    "name": "ipython",
    "version": 3
   },
   "file_extension": ".py",
   "mimetype": "text/x-python",
   "name": "python",
   "nbconvert_exporter": "python",
   "pygments_lexer": "ipython3",
   "version": "3.8.8"
  }
 },
 "nbformat": 4,
 "nbformat_minor": 4
}
