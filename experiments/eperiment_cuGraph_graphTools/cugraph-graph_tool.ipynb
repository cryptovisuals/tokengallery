{
 "cells": [
  {
   "cell_type": "code",
   "execution_count": 1,
   "metadata": {},
   "outputs": [
    {
     "name": "stderr",
     "output_type": "stream",
     "text": [
      "/home/everything/applications/anaconda3/envs/rapidsai/lib/python3.7/site-packages/graph_tool/draw/cairo_draw.py:1494: RuntimeWarning: Error importing Gtk module: No module named 'gi'; GTK+ drawing will not work.\n",
      "  warnings.warn(msg, RuntimeWarning)\n"
     ]
    }
   ],
   "source": [
    "import cugraph\n",
    "import cudf\n",
    "import pandas as pd\n",
    "import numpy as np\n",
    "\n",
    "from graph_tool.all import *"
   ]
  },
  {
   "cell_type": "code",
   "execution_count": 2,
   "metadata": {},
   "outputs": [],
   "source": [
    "data = pd.read_csv(\"/tmp/networks/medium.csv\", dtype={'amount': object})"
   ]
  },
  {
   "cell_type": "code",
   "execution_count": 3,
   "metadata": {},
   "outputs": [],
   "source": [
    "# create mapping from address to vertex id\n",
    "column_values = data[[\"source\", \"target\"]].values.ravel()\n",
    "unique_values = pd.unique(column_values)\n",
    "mapping = pd.DataFrame(unique_values).reset_index().rename(columns = {\"index\":\"vertex\",0:\"address\"} )"
   ]
  },
  {
   "cell_type": "code",
   "execution_count": 4,
   "metadata": {},
   "outputs": [
    {
     "data": {
      "text/html": [
       "<div>\n",
       "<style scoped>\n",
       "    .dataframe tbody tr th:only-of-type {\n",
       "        vertical-align: middle;\n",
       "    }\n",
       "\n",
       "    .dataframe tbody tr th {\n",
       "        vertical-align: top;\n",
       "    }\n",
       "\n",
       "    .dataframe thead th {\n",
       "        text-align: right;\n",
       "    }\n",
       "</style>\n",
       "<table border=\"1\" class=\"dataframe\">\n",
       "  <thead>\n",
       "    <tr style=\"text-align: right;\">\n",
       "      <th></th>\n",
       "      <th>source_id</th>\n",
       "      <th>target_id</th>\n",
       "    </tr>\n",
       "  </thead>\n",
       "  <tbody>\n",
       "    <tr>\n",
       "      <th>0</th>\n",
       "      <td>0</td>\n",
       "      <td>1</td>\n",
       "    </tr>\n",
       "    <tr>\n",
       "      <th>1</th>\n",
       "      <td>9830</td>\n",
       "      <td>1</td>\n",
       "    </tr>\n",
       "    <tr>\n",
       "      <th>2</th>\n",
       "      <td>9830</td>\n",
       "      <td>1</td>\n",
       "    </tr>\n",
       "    <tr>\n",
       "      <th>3</th>\n",
       "      <td>9830</td>\n",
       "      <td>1</td>\n",
       "    </tr>\n",
       "    <tr>\n",
       "      <th>4</th>\n",
       "      <td>9884</td>\n",
       "      <td>1</td>\n",
       "    </tr>\n",
       "    <tr>\n",
       "      <th>...</th>\n",
       "      <td>...</td>\n",
       "      <td>...</td>\n",
       "    </tr>\n",
       "    <tr>\n",
       "      <th>20907</th>\n",
       "      <td>11266</td>\n",
       "      <td>11302</td>\n",
       "    </tr>\n",
       "    <tr>\n",
       "      <th>20908</th>\n",
       "      <td>4150</td>\n",
       "      <td>11303</td>\n",
       "    </tr>\n",
       "    <tr>\n",
       "      <th>20909</th>\n",
       "      <td>11184</td>\n",
       "      <td>11304</td>\n",
       "    </tr>\n",
       "    <tr>\n",
       "      <th>20910</th>\n",
       "      <td>1393</td>\n",
       "      <td>11305</td>\n",
       "    </tr>\n",
       "    <tr>\n",
       "      <th>20911</th>\n",
       "      <td>11304</td>\n",
       "      <td>11307</td>\n",
       "    </tr>\n",
       "  </tbody>\n",
       "</table>\n",
       "<p>20912 rows × 2 columns</p>\n",
       "</div>"
      ],
      "text/plain": [
       "       source_id  target_id\n",
       "0              0          1\n",
       "1           9830          1\n",
       "2           9830          1\n",
       "3           9830          1\n",
       "4           9884          1\n",
       "...          ...        ...\n",
       "20907      11266      11302\n",
       "20908       4150      11303\n",
       "20909      11184      11304\n",
       "20910       1393      11305\n",
       "20911      11304      11307\n",
       "\n",
       "[20912 rows x 2 columns]"
      ]
     },
     "execution_count": 4,
     "metadata": {},
     "output_type": "execute_result"
    }
   ],
   "source": [
    "# create edge data based on vertex ids only\n",
    "data_ids = data.merge(mapping.rename(columns={\"address\":\"source\"})).rename(columns = {\"vertex\":\"source_id\"})\n",
    "data_ids = data_ids.merge(mapping.rename(columns={\"address\":\"target\"})).rename(columns = {\"vertex\":\"target_id\"})\n",
    "data_ids = data_ids[[\"source_id\", \"target_id\"]]\n",
    "data_ids = cudf.DataFrame.from_pandas(data_ids)\n",
    "data_ids"
   ]
  },
  {
   "cell_type": "code",
   "execution_count": 5,
   "metadata": {},
   "outputs": [],
   "source": [
    "# create a Graph using the source (src) and destination (dst) vertex pairs the GDF  \n",
    "G = cugraph.Graph()\n",
    "G.from_cudf_edgelist(data_ids, source='source_id', destination='target_id')"
   ]
  },
  {
   "cell_type": "code",
   "execution_count": 6,
   "metadata": {},
   "outputs": [
    {
     "data": {
      "text/html": [
       "<div>\n",
       "<style scoped>\n",
       "    .dataframe tbody tr th:only-of-type {\n",
       "        vertical-align: middle;\n",
       "    }\n",
       "\n",
       "    .dataframe tbody tr th {\n",
       "        vertical-align: top;\n",
       "    }\n",
       "\n",
       "    .dataframe thead th {\n",
       "        text-align: right;\n",
       "    }\n",
       "</style>\n",
       "<table border=\"1\" class=\"dataframe\">\n",
       "  <thead>\n",
       "    <tr style=\"text-align: right;\">\n",
       "      <th></th>\n",
       "      <th>x</th>\n",
       "      <th>y</th>\n",
       "      <th>vertex</th>\n",
       "    </tr>\n",
       "  </thead>\n",
       "  <tbody>\n",
       "    <tr>\n",
       "      <th>0</th>\n",
       "      <td>-2.713495</td>\n",
       "      <td>186.139755</td>\n",
       "      <td>2707</td>\n",
       "    </tr>\n",
       "    <tr>\n",
       "      <th>1</th>\n",
       "      <td>7.583972</td>\n",
       "      <td>-131.458237</td>\n",
       "      <td>2755</td>\n",
       "    </tr>\n",
       "    <tr>\n",
       "      <th>2</th>\n",
       "      <td>130.426773</td>\n",
       "      <td>114.509895</td>\n",
       "      <td>2733</td>\n",
       "    </tr>\n",
       "    <tr>\n",
       "      <th>3</th>\n",
       "      <td>86.610153</td>\n",
       "      <td>-108.410591</td>\n",
       "      <td>2790</td>\n",
       "    </tr>\n",
       "    <tr>\n",
       "      <th>4</th>\n",
       "      <td>101.439209</td>\n",
       "      <td>34.509789</td>\n",
       "      <td>2710</td>\n",
       "    </tr>\n",
       "  </tbody>\n",
       "</table>\n",
       "</div>"
      ],
      "text/plain": [
       "            x           y  vertex\n",
       "0   -2.713495  186.139755    2707\n",
       "1    7.583972 -131.458237    2755\n",
       "2  130.426773  114.509895    2733\n",
       "3   86.610153 -108.410591    2790\n",
       "4  101.439209   34.509789    2710"
      ]
     },
     "execution_count": 6,
     "metadata": {},
     "output_type": "execute_result"
    }
   ],
   "source": [
    "# run cugraph's force_atlas2 layout\n",
    "layout = cugraph.layout.force_atlas2(G, max_iter=500,\n",
    "                                     strong_gravity_mode=True,\n",
    "                                     barnes_hut_theta=1.2,\n",
    "                                     outbound_attraction_distribution=False,\n",
    "                                     gravity=1,\n",
    "                                     scaling_ratio=1)\n",
    "layout = layout.to_pandas()\n",
    "layout.head()"
   ]
  },
  {
   "cell_type": "code",
   "execution_count": 1,
   "metadata": {},
   "outputs": [
    {
     "ename": "NameError",
     "evalue": "name 'Graph' is not defined",
     "output_type": "error",
     "traceback": [
      "\u001b[0;31m---------------------------------------------------------------------------\u001b[0m",
      "\u001b[0;31mNameError\u001b[0m                                 Traceback (most recent call last)",
      "\u001b[0;32m<ipython-input-1-0e4250e76ef5>\u001b[0m in \u001b[0;36m<module>\u001b[0;34m\u001b[0m\n\u001b[1;32m      1\u001b[0m \u001b[0;31m# plotting with graph-tool\u001b[0m\u001b[0;34m\u001b[0m\u001b[0;34m\u001b[0m\u001b[0;34m\u001b[0m\u001b[0m\n\u001b[1;32m      2\u001b[0m \u001b[0;34m\u001b[0m\u001b[0m\n\u001b[0;32m----> 3\u001b[0;31m \u001b[0mg\u001b[0m \u001b[0;34m=\u001b[0m \u001b[0mGraph\u001b[0m\u001b[0;34m(\u001b[0m\u001b[0mdirected\u001b[0m\u001b[0;34m=\u001b[0m\u001b[0;32mTrue\u001b[0m\u001b[0;34m)\u001b[0m\u001b[0;34m\u001b[0m\u001b[0;34m\u001b[0m\u001b[0m\n\u001b[0m\u001b[1;32m      4\u001b[0m \u001b[0;34m\u001b[0m\u001b[0m\n\u001b[1;32m      5\u001b[0m \u001b[0;31m# take the layout from cugraph and convert it to a graph-tool vertex property\u001b[0m\u001b[0;34m\u001b[0m\u001b[0;34m\u001b[0m\u001b[0;34m\u001b[0m\u001b[0m\n",
      "\u001b[0;31mNameError\u001b[0m: name 'Graph' is not defined"
     ]
    }
   ],
   "source": [
    "# plotting with graph-tool\n",
    "\n",
    "g = Graph(directed=True)\n",
    "\n",
    "# take the layout from cugraph and convert it to a graph-tool vertex property\n",
    "vprop_double = g.new_vertex_property(\"vector<double>\")\n",
    "for i, row in enumerate(layout.sort_values(\"vertex\")[[\"x\", \"y\"]].values):\n",
    "    vprop_double[i] = row\n",
    "\n",
    "eweight = g.new_edge_property(\"string\")\n",
    "g.add_edge_list(data[[\"source\", \"target\", \"amount\"]].values, hashed=True, eprops=[eweight])\n",
    "\n",
    "# create an edge property representing edge width\n",
    "esize = g.new_edge_property(\"float\")\n",
    "esize.a = list(map(lambda x: float(x), list(eweight)))\n",
    "esize.a = (esize.a / (esize.a.max() / 1000.0))\n",
    "esize.a = np.sqrt(esize.a)\n",
    "\n",
    "# create a degree map for different vertex sizes based on vertex degree\n",
    "deg = g.degree_property_map(\"in\")\n",
    "deg.a = 4 * (np.sqrt(deg.a) * 0.1 + 0.4)\n",
    "    \n",
    "graph_draw(g, pos=vprop_double,\n",
    "           bg_color=[0,0,0,1],\n",
    "           vertex_size=deg,\n",
    "           vertex_fill_color=[1,1,1,1],\n",
    "           edge_color=[1,1,1,0.5],\n",
    "           edge_pen_width=esize,\n",
    "           #output=\"/tmp/test.png\",\n",
    "           output_size=[1000, 1000])"
   ]
  },
  {
   "cell_type": "code",
   "execution_count": null,
   "metadata": {},
   "outputs": [],
   "source": []
  },
  {
   "cell_type": "code",
   "execution_count": null,
   "metadata": {},
   "outputs": [],
   "source": []
  }
 ],
 "metadata": {
  "kernelspec": {
   "display_name": "Python 3",
   "language": "python",
   "name": "python3"
  },
  "language_info": {
   "codemirror_mode": {
    "name": "ipython",
    "version": 3
   },
   "file_extension": ".py",
   "mimetype": "text/x-python",
   "name": "python",
   "nbconvert_exporter": "python",
   "pygments_lexer": "ipython3",
   "version": "3.8.8"
  }
 },
 "nbformat": 4,
 "nbformat_minor": 4
}
